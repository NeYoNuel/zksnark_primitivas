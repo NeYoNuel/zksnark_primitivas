{
 "cells": [
  {
   "cell_type": "code",
   "execution_count": 8,
   "id": "c0a2c706-dac1-42b9-b7ea-8a5af266bb1f",
   "metadata": {
    "tags": []
   },
   "outputs": [
    {
     "name": "stdout",
     "output_type": "stream",
     "text": [
      "(7, 13, -42)\n"
     ]
    }
   ],
   "source": [
    "def extended_euclid(a, b):\n",
    "    if b == 0:\n",
    "        return a, 1, 0\n",
    "    d1, x1, y1 = extended_euclid(b, a % b)\n",
    "    d = d1\n",
    "    x = y1\n",
    "    y = x1 - (a // b) * y1\n",
    "    return d, x, y\n",
    "\n",
    "\n",
    "print(extended_euclid(973, 301))"
   ]
  },
  {
   "cell_type": "code",
   "execution_count": null,
   "id": "3df151c8-c0d1-4133-8b72-89a058a48512",
   "metadata": {},
   "outputs": [],
   "source": []
  }
 ],
 "metadata": {
  "kernelspec": {
   "display_name": "Python 3 (ipykernel)",
   "language": "python",
   "name": "python3"
  },
  "language_info": {
   "codemirror_mode": {
    "name": "ipython",
    "version": 3
   },
   "file_extension": ".py",
   "mimetype": "text/x-python",
   "name": "python",
   "nbconvert_exporter": "python",
   "pygments_lexer": "ipython3",
   "version": "3.10.12"
  }
 },
 "nbformat": 4,
 "nbformat_minor": 5
}
